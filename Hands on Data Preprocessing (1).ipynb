{
 "cells": [
  {
   "cell_type": "code",
   "execution_count": 1,
   "metadata": {},
   "outputs": [],
   "source": [
    "import pandas as pd \n",
    "import numpy as np \n",
    "import sklearn"
   ]
  },
  {
   "cell_type": "code",
   "execution_count": 2,
   "metadata": {},
   "outputs": [
    {
     "data": {
      "text/html": [
       "<div>\n",
       "<style scoped>\n",
       "    .dataframe tbody tr th:only-of-type {\n",
       "        vertical-align: middle;\n",
       "    }\n",
       "\n",
       "    .dataframe tbody tr th {\n",
       "        vertical-align: top;\n",
       "    }\n",
       "\n",
       "    .dataframe thead th {\n",
       "        text-align: right;\n",
       "    }\n",
       "</style>\n",
       "<table border=\"1\" class=\"dataframe\">\n",
       "  <thead>\n",
       "    <tr style=\"text-align: right;\">\n",
       "      <th></th>\n",
       "      <th>Gender</th>\n",
       "      <th>Age</th>\n",
       "      <th>Salary</th>\n",
       "      <th>Purchased</th>\n",
       "    </tr>\n",
       "  </thead>\n",
       "  <tbody>\n",
       "    <tr>\n",
       "      <th>0</th>\n",
       "      <td>Male</td>\n",
       "      <td>19</td>\n",
       "      <td>19000</td>\n",
       "      <td>0</td>\n",
       "    </tr>\n",
       "    <tr>\n",
       "      <th>1</th>\n",
       "      <td>Male</td>\n",
       "      <td>35</td>\n",
       "      <td>20000</td>\n",
       "      <td>0</td>\n",
       "    </tr>\n",
       "    <tr>\n",
       "      <th>2</th>\n",
       "      <td>Female</td>\n",
       "      <td>26</td>\n",
       "      <td>43000</td>\n",
       "      <td>0</td>\n",
       "    </tr>\n",
       "    <tr>\n",
       "      <th>3</th>\n",
       "      <td>Female</td>\n",
       "      <td>27</td>\n",
       "      <td>57000</td>\n",
       "      <td>0</td>\n",
       "    </tr>\n",
       "    <tr>\n",
       "      <th>4</th>\n",
       "      <td>Male</td>\n",
       "      <td>19</td>\n",
       "      <td>76000</td>\n",
       "      <td>0</td>\n",
       "    </tr>\n",
       "    <tr>\n",
       "      <th>5</th>\n",
       "      <td>Male</td>\n",
       "      <td>27</td>\n",
       "      <td>58000</td>\n",
       "      <td>0</td>\n",
       "    </tr>\n",
       "    <tr>\n",
       "      <th>6</th>\n",
       "      <td>Female</td>\n",
       "      <td>27</td>\n",
       "      <td>84000</td>\n",
       "      <td>0</td>\n",
       "    </tr>\n",
       "    <tr>\n",
       "      <th>7</th>\n",
       "      <td>Female</td>\n",
       "      <td>32</td>\n",
       "      <td>150000</td>\n",
       "      <td>1</td>\n",
       "    </tr>\n",
       "    <tr>\n",
       "      <th>8</th>\n",
       "      <td>Male</td>\n",
       "      <td>25</td>\n",
       "      <td>33000</td>\n",
       "      <td>0</td>\n",
       "    </tr>\n",
       "    <tr>\n",
       "      <th>9</th>\n",
       "      <td>Female</td>\n",
       "      <td>35</td>\n",
       "      <td>65000</td>\n",
       "      <td>0</td>\n",
       "    </tr>\n",
       "  </tbody>\n",
       "</table>\n",
       "</div>"
      ],
      "text/plain": [
       "   Gender  Age  Salary  Purchased\n",
       "0    Male   19   19000          0\n",
       "1    Male   35   20000          0\n",
       "2  Female   26   43000          0\n",
       "3  Female   27   57000          0\n",
       "4    Male   19   76000          0\n",
       "5    Male   27   58000          0\n",
       "6  Female   27   84000          0\n",
       "7  Female   32  150000          1\n",
       "8    Male   25   33000          0\n",
       "9  Female   35   65000          0"
      ]
     },
     "execution_count": 2,
     "metadata": {},
     "output_type": "execute_result"
    }
   ],
   "source": [
    "data=pd.read_csv(\"Customer.csv\")\n",
    "data.head(10)"
   ]
  },
  {
   "cell_type": "code",
   "execution_count": 3,
   "metadata": {},
   "outputs": [
    {
     "data": {
      "text/plain": [
       "Gender       0\n",
       "Age          0\n",
       "Salary       0\n",
       "Purchased    0\n",
       "dtype: int64"
      ]
     },
     "execution_count": 3,
     "metadata": {},
     "output_type": "execute_result"
    }
   ],
   "source": [
    "#Check the presence of Null values\n",
    "data.isnull().sum()\n"
   ]
  },
  {
   "cell_type": "code",
   "execution_count": 4,
   "metadata": {},
   "outputs": [
    {
     "name": "stdout",
     "output_type": "stream",
     "text": [
      "[['Male' 19 19000]\n",
      " ['Male' 35 20000]\n",
      " ['Female' 26 43000]\n",
      " ['Female' 27 57000]\n",
      " ['Male' 19 76000]\n",
      " ['Male' 27 58000]\n",
      " ['Female' 27 84000]\n",
      " ['Female' 32 150000]\n",
      " ['Male' 25 33000]\n",
      " ['Female' 35 65000]\n",
      " ['Female' 26 80000]\n",
      " ['Female' 26 52000]\n",
      " ['Male' 20 86000]\n",
      " ['Male' 32 18000]\n",
      " ['Male' 18 82000]\n",
      " ['Male' 29 80000]\n",
      " ['Male' 47 25000]\n",
      " ['Male' 45 26000]\n",
      " ['Male' 46 28000]]\n"
     ]
    }
   ],
   "source": [
    "#Extract Independent Variable\n",
    "X=data.iloc[:, 0:3].values \n",
    "print(X)\n"
   ]
  },
  {
   "cell_type": "code",
   "execution_count": 5,
   "metadata": {},
   "outputs": [
    {
     "name": "stdout",
     "output_type": "stream",
     "text": [
      "[[0]\n",
      " [0]\n",
      " [0]\n",
      " [0]\n",
      " [0]\n",
      " [0]\n",
      " [0]\n",
      " [1]\n",
      " [0]\n",
      " [0]\n",
      " [0]\n",
      " [0]\n",
      " [0]\n",
      " [0]\n",
      " [0]\n",
      " [0]\n",
      " [1]\n",
      " [1]\n",
      " [1]]\n"
     ]
    }
   ],
   "source": [
    "#Extract Dependent Variable\n",
    "y=data.iloc[:,3:4].values \n",
    "print(y)\n"
   ]
  },
  {
   "cell_type": "code",
   "execution_count": 7,
   "metadata": {},
   "outputs": [
    {
     "name": "stdout",
     "output_type": "stream",
     "text": [
      "[[19.0 19000.0]\n",
      " [35.0 20000.0]\n",
      " [26.0 43000.0]\n",
      " [27.0 57000.0]\n",
      " [19.0 76000.0]\n",
      " [27.0 58000.0]\n",
      " [27.0 84000.0]\n",
      " [32.0 150000.0]\n",
      " [25.0 33000.0]\n",
      " [35.0 65000.0]\n",
      " [26.0 80000.0]\n",
      " [26.0 52000.0]\n",
      " [20.0 86000.0]\n",
      " [32.0 18000.0]\n",
      " [18.0 82000.0]\n",
      " [29.0 80000.0]\n",
      " [47.0 25000.0]\n",
      " [45.0 26000.0]\n",
      " [46.0 28000.0]]\n"
     ]
    }
   ],
   "source": [
    "from sklearn.impute import SimpleImputer \n",
    "imputer= SimpleImputer()\n",
    "#Fitting imputer object to the independent varibles x.\n",
    "imputer= imputer.fit(X[:, 1:3])\n",
    "#Replacing missing data with the calculated mean value\n",
    "X[:, 1:3]= imputer.transform(X[:, 1:3])\n",
    "print(X[:, 1:3])\n"
   ]
  },
  {
   "cell_type": "code",
   "execution_count": 8,
   "metadata": {},
   "outputs": [
    {
     "name": "stdout",
     "output_type": "stream",
     "text": [
      "['Male' 'Male' 'Female' 'Female' 'Male' 'Male' 'Female' 'Female' 'Male'\n",
      " 'Female' 'Female' 'Female' 'Male' 'Male' 'Male' 'Male' 'Male' 'Male'\n",
      " 'Male']\n"
     ]
    }
   ],
   "source": [
    "print(X[:, 0])"
   ]
  },
  {
   "cell_type": "code",
   "execution_count": 9,
   "metadata": {},
   "outputs": [
    {
     "name": "stdout",
     "output_type": "stream",
     "text": [
      "[1 1 0 0 1 1 0 0 1 0 0 0 1 1 1 1 1 1 1]\n"
     ]
    }
   ],
   "source": [
    "# LabelEncoder\n",
    "from sklearn.preprocessing import LabelEncoder \n",
    "label_encoder_x= LabelEncoder()\n",
    "X[:, 0]= label_encoder_x.fit_transform(X[:, 0])\n",
    "print(X[:, 0])\n"
   ]
  },
  {
   "cell_type": "code",
   "execution_count": 12,
   "metadata": {},
   "outputs": [
    {
     "name": "stdout",
     "output_type": "stream",
     "text": [
      "[[0.0 1.0 19.0 19000.0]\n",
      " [0.0 1.0 35.0 20000.0]\n",
      " [1.0 0.0 26.0 43000.0]\n",
      " [1.0 0.0 27.0 57000.0]\n",
      " [0.0 1.0 19.0 76000.0]\n",
      " [0.0 1.0 27.0 58000.0]\n",
      " [1.0 0.0 27.0 84000.0]\n",
      " [1.0 0.0 32.0 150000.0]\n",
      " [0.0 1.0 25.0 33000.0]\n",
      " [1.0 0.0 35.0 65000.0]\n",
      " [1.0 0.0 26.0 80000.0]\n",
      " [1.0 0.0 26.0 52000.0]\n",
      " [0.0 1.0 20.0 86000.0]\n",
      " [0.0 1.0 32.0 18000.0]\n",
      " [0.0 1.0 18.0 82000.0]\n",
      " [0.0 1.0 29.0 80000.0]\n",
      " [0.0 1.0 47.0 25000.0]\n",
      " [0.0 1.0 45.0 26000.0]\n",
      " [0.0 1.0 46.0 28000.0]]\n"
     ]
    }
   ],
   "source": [
    "#OneHotEncoder\n",
    "from sklearn.preprocessing import OneHotEncoder\n",
    "from sklearn.compose import ColumnTransformer\n",
    "ct = ColumnTransformer([(\"Country\", OneHotEncoder(), [0])], remainder = 'passthrough' )\n",
    "X = ct.fit_transform(X) \n",
    "print(X)"
   ]
  },
  {
   "cell_type": "code",
   "execution_count": 13,
   "metadata": {},
   "outputs": [
    {
     "name": "stdout",
     "output_type": "stream",
     "text": [
      "[[1.0 19.0 19000.0]\n",
      " [1.0 35.0 20000.0]\n",
      " [0.0 26.0 43000.0]\n",
      " [0.0 27.0 57000.0]\n",
      " [1.0 19.0 76000.0]\n",
      " [1.0 27.0 58000.0]\n",
      " [0.0 27.0 84000.0]\n",
      " [0.0 32.0 150000.0]\n",
      " [1.0 25.0 33000.0]\n",
      " [0.0 35.0 65000.0]\n",
      " [0.0 26.0 80000.0]\n",
      " [0.0 26.0 52000.0]\n",
      " [1.0 20.0 86000.0]\n",
      " [1.0 32.0 18000.0]\n",
      " [1.0 18.0 82000.0]\n",
      " [1.0 29.0 80000.0]\n",
      " [1.0 47.0 25000.0]\n",
      " [1.0 45.0 26000.0]\n",
      " [1.0 46.0 28000.0]]\n"
     ]
    }
   ],
   "source": [
    "#Avoiding Dummy Variable Trap\n",
    "X = X[:, 1:]\n",
    "print(X)\n"
   ]
  },
  {
   "cell_type": "code",
   "execution_count": 14,
   "metadata": {},
   "outputs": [],
   "source": [
    "from sklearn.model_selection import train_test_split\n",
    "x_train, x_test, y_train, y_test= train_test_split(X, y, test_size= 0.2, random_state=2\n",
    ")\n"
   ]
  },
  {
   "cell_type": "code",
   "execution_count": 15,
   "metadata": {},
   "outputs": [
    {
     "name": "stdout",
     "output_type": "stream",
     "text": [
      "[[0.0 26.0 80000.0]\n",
      " [1.0 27.0 58000.0]\n",
      " [0.0 27.0 57000.0]\n",
      " [1.0 35.0 20000.0]\n",
      " [1.0 20.0 86000.0]\n",
      " [0.0 32.0 150000.0]\n",
      " [1.0 45.0 26000.0]\n",
      " [1.0 47.0 25000.0]\n",
      " [0.0 26.0 43000.0]\n",
      " [0.0 26.0 52000.0]\n",
      " [0.0 27.0 84000.0]\n",
      " [1.0 46.0 28000.0]\n",
      " [1.0 32.0 18000.0]\n",
      " [1.0 29.0 80000.0]\n",
      " [1.0 25.0 33000.0]]\n"
     ]
    }
   ],
   "source": [
    "print(x_train)"
   ]
  },
  {
   "cell_type": "code",
   "execution_count": 16,
   "metadata": {},
   "outputs": [],
   "source": [
    "from sklearn.model_selection import train_test_split\n",
    "x_train, x_test, y_train, y_test= train_test_split(X, y, test_size= 0.2, random_state=2)\n"
   ]
  },
  {
   "cell_type": "code",
   "execution_count": 17,
   "metadata": {},
   "outputs": [
    {
     "name": "stdout",
     "output_type": "stream",
     "text": [
      "[[0.0 26.0 80000.0]\n",
      " [1.0 27.0 58000.0]\n",
      " [0.0 27.0 57000.0]\n",
      " [1.0 35.0 20000.0]\n",
      " [1.0 20.0 86000.0]\n",
      " [0.0 32.0 150000.0]\n",
      " [1.0 45.0 26000.0]\n",
      " [1.0 47.0 25000.0]\n",
      " [0.0 26.0 43000.0]\n",
      " [0.0 26.0 52000.0]\n",
      " [0.0 27.0 84000.0]\n",
      " [1.0 46.0 28000.0]\n",
      " [1.0 32.0 18000.0]\n",
      " [1.0 29.0 80000.0]\n",
      " [1.0 25.0 33000.0]]\n"
     ]
    }
   ],
   "source": [
    "print(x_train)"
   ]
  },
  {
   "cell_type": "code",
   "execution_count": 18,
   "metadata": {},
   "outputs": [
    {
     "name": "stdout",
     "output_type": "stream",
     "text": [
      "[[-1.22474487 -0.66072844  0.69717186]\n",
      " [ 0.81649658 -0.53684186  0.05809766]\n",
      " [-1.22474487 -0.53684186  0.02904883]\n",
      " [ 0.81649658  0.4542508  -1.04575779]\n",
      " [ 0.81649658 -1.40404794  0.87146483]\n",
      " [-1.22474487  0.08259106  2.73058979]\n",
      " [ 0.81649658  1.69311663 -0.87146483]\n",
      " [ 0.81649658  1.9408898  -0.90051365]\n",
      " [-1.22474487 -0.66072844 -0.37763476]\n",
      " [-1.22474487 -0.66072844 -0.11619531]\n",
      " [-1.22474487 -0.53684186  0.81336717]\n",
      " [ 0.81649658  1.81700321 -0.81336717]\n",
      " [ 0.81649658  0.08259106 -1.10385545]\n",
      " [ 0.81649658 -0.28906869  0.69717186]\n",
      " [ 0.81649658 -0.78461502 -0.66812303]]\n",
      "[[-1.22474487  0.4542508   0.26143945]\n",
      " [ 0.81649658 -1.52793452  0.58097655]\n",
      " [ 0.81649658 -1.6518211   0.75526952]\n",
      " [ 0.81649658 -1.52793452 -1.07480662]]\n"
     ]
    }
   ],
   "source": [
    "from sklearn.preprocessing import StandardScaler \n",
    "st_x= StandardScaler()\n",
    "x_train= st_x.fit_transform(x_train) #feature scaling\n",
    "print(x_train)\n",
    "x_test= st_x.transform(x_test) \n",
    "print(x_test)\n"
   ]
  },
  {
   "cell_type": "code",
   "execution_count": null,
   "metadata": {},
   "outputs": [],
   "source": []
  }
 ],
 "metadata": {
  "kernelspec": {
   "display_name": "Python 3",
   "language": "python",
   "name": "python3"
  },
  "language_info": {
   "codemirror_mode": {
    "name": "ipython",
    "version": 3
   },
   "file_extension": ".py",
   "mimetype": "text/x-python",
   "name": "python",
   "nbconvert_exporter": "python",
   "pygments_lexer": "ipython3",
   "version": "3.7.6"
  }
 },
 "nbformat": 4,
 "nbformat_minor": 4
}
